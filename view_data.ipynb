{
 "cells": [
  {
   "cell_type": "code",
   "execution_count": null,
   "metadata": {
    "collapsed": true
   },
   "outputs": [],
   "source": [
    "# import the dataloader\n",
    "from hurd.internal_datasets import load_c13k_data\n",
    "\n",
    "# import some data\n",
    "data = load_c13k_data(fb_filter=\"EV_B_highest_target\")\n",
    "print(data)\n",
    "\n",
    "# how many choice problems in the dataset?\n",
    "n_choice_problems = len(data)"
   ]
  },
  {
   "cell_type": "code",
   "execution_count": null,
   "outputs": [],
   "source": [
    "def look_at_problem(num):\n",
    "    # look at the first choice problem in the dataset\n",
    "    data.iloc(num)\n",
    "    _, choice_problem_1, bRate1 = data.iloc(num)\n",
    "\n",
    "    print(\n",
    "        \"There are {} choice problems in this dataset, each of type {}.\".format(\n",
    "            n_choice_problems, type(choice_problem_1)\n",
    "        ),\n",
    "        end=\"\\n\\n\",\n",
    "    )\n",
    "\n",
    "    print(\n",
    "        \"For example, the {}th choice problem is\\n\\n{}.\".format(num, choice_problem_1),\n",
    "        end=\"\\n\\n\",\n",
    "    )\n",
    "\n",
    "    print(\n",
    "        \"Gamble B is highest EV (1 for yes 0 for no)? {:.2f}.\".format(\n",
    "            bRate1\n",
    "        )\n",
    "    )"
   ],
   "metadata": {
    "collapsed": false,
    "pycharm": {
     "name": "#%%\n"
    }
   }
  },
  {
   "cell_type": "markdown",
   "source": [
    "To view the data for a given problem, input any number between 0 and 9831"
   ],
   "metadata": {
    "collapsed": false,
    "pycharm": {
     "name": "#%% md\n"
    }
   }
  },
  {
   "cell_type": "code",
   "execution_count": null,
   "outputs": [],
   "source": [
    "look_at_problem(3)\n"
   ],
   "metadata": {
    "collapsed": false,
    "pycharm": {
     "name": "#%%\n"
    }
   }
  }
 ],
 "metadata": {
  "kernelspec": {
   "display_name": "Python 3",
   "language": "python",
   "name": "python3"
  },
  "language_info": {
   "codemirror_mode": {
    "name": "ipython",
    "version": 2
   },
   "file_extension": ".py",
   "mimetype": "text/x-python",
   "name": "python",
   "nbconvert_exporter": "python",
   "pygments_lexer": "ipython2",
   "version": "2.7.6"
  }
 },
 "nbformat": 4,
 "nbformat_minor": 0
}